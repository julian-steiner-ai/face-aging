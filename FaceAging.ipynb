{
 "cells": [
  {
   "attachments": {},
   "cell_type": "markdown",
   "metadata": {},
   "source": [
    "# Face Aging"
   ]
  },
  {
   "cell_type": "code",
   "execution_count": 1,
   "metadata": {},
   "outputs": [
    {
     "name": "stderr",
     "output_type": "stream",
     "text": [
      "2023-04-25 17:55:54.640764: I tensorflow/core/platform/cpu_feature_guard.cc:182] This TensorFlow binary is optimized to use available CPU instructions in performance-critical operations.\n",
      "To enable the following instructions: AVX2 FMA, in other operations, rebuild TensorFlow with the appropriate compiler flags.\n",
      "2023-04-25 17:55:55.486565: W tensorflow/compiler/tf2tensorrt/utils/py_utils.cc:38] TF-TRT Warning: Could not find TensorRT\n"
     ]
    }
   ],
   "source": [
    "import os\n",
    "\n",
    "import numpy as np\n",
    "import matplotlib.pyplot as plt\n",
    "\n",
    "from scipy.io import loadmat\n",
    "from datetime import datetime\n",
    "from keras.preprocessing import image\n",
    "from keras.utils import to_categorical\n",
    "\n",
    "from PIL import Image\n",
    "\n",
    "from src.face_aging import CGAN_FaceAging"
   ]
  },
  {
   "attachments": {},
   "cell_type": "markdown",
   "metadata": {},
   "source": [
    "## Dataset"
   ]
  },
  {
   "attachments": {},
   "cell_type": "markdown",
   "metadata": {},
   "source": [
    "### Download Data"
   ]
  },
  {
   "attachments": {},
   "cell_type": "markdown",
   "metadata": {},
   "source": [
    "If you use the Notebook in a new environment, without you ever had downloaded the data please execute the following steps."
   ]
  },
  {
   "cell_type": "code",
   "execution_count": 2,
   "metadata": {},
   "outputs": [],
   "source": [
    "def get_age_category(age):\n",
    "    if 0 < age <= 18:\n",
    "        return 0\n",
    "    elif 18 < age <= 29:\n",
    "        return 1\n",
    "    elif 29 < age <= 39:\n",
    "        return 2\n",
    "    elif 39 < age <= 49:\n",
    "        return 3\n",
    "    elif 49 < age <= 59:\n",
    "        return 4\n",
    "    elif age >= 60:\n",
    "        return 5"
   ]
  },
  {
   "cell_type": "code",
   "execution_count": 3,
   "metadata": {},
   "outputs": [],
   "source": [
    "def ages_to_category(ages):\n",
    "        return [get_age_category(age) for age in ages]"
   ]
  },
  {
   "cell_type": "code",
   "execution_count": 4,
   "metadata": {},
   "outputs": [],
   "source": [
    "def calculate_age(taken, dob):\n",
    "  birth = datetime.fromordinal(max(int(dob) - 366, 1))\n",
    "  \n",
    "  if birth.month < 7:\n",
    "    return taken - birth.year\n",
    "  else:\n",
    "    return taken - birth.year - 1"
   ]
  },
  {
   "cell_type": "code",
   "execution_count": 5,
   "metadata": {},
   "outputs": [],
   "source": [
    "def load_data(wiki_dir, dataset = 'wiki'):\n",
    "    ## Load the wiki.mat file\n",
    "    meta = loadmat(os.path.join(wiki_dir, \"{}.mat\".format(dataset)))\n",
    "\n",
    "    ## Load the list of all files\n",
    "    full_path = meta[dataset][0, 0][\"full_path\"][0]\n",
    "\n",
    "    ## List of Matlab serial date numbers\n",
    "    dob = meta[dataset][0, 0][\"dob\"][0]\n",
    "\n",
    "    ## List of years when photo was taken\n",
    "    photo_taken = meta[dataset][0, 0][\"photo_taken\"][0]  # year\n",
    "\n",
    "    ## Calculate age for all dobs\n",
    "    age = [calculate_age(photo_taken[i], dob[i]) for i in range(len(dob))]\n",
    "\n",
    "    ## Create a list of tuples containing a pair of an image path and age\n",
    "    images = []\n",
    "    age_list = []\n",
    "    \n",
    "    for index, image_path in enumerate(full_path):\n",
    "        if age[index] > 0 and age[index] <= 100:\n",
    "            images.append(image_path[0])\n",
    "            age_list.append(age[index])\n",
    "\n",
    "    ## Return a list of all images and respective age\n",
    "    return images, age_list"
   ]
  },
  {
   "cell_type": "code",
   "execution_count": 6,
   "metadata": {},
   "outputs": [],
   "source": [
    "def load_images(data_dir, image_paths, image_shape, n_images):\n",
    "    images = []\n",
    "  \n",
    "    for i, image_path in enumerate(image_paths):\n",
    "        if i == n_images:\n",
    "            break\n",
    "        try:\n",
    "            img = Image.open(os.path.join(data_dir, image_path)).convert('RGB')\n",
    "            img = img.resize((image_shape[0], image_shape[1]))\n",
    "            x = np.asanyarray(img)\n",
    "            x = (x.astype('float32') - 127.5) / 127.5\n",
    "            images.append(x)\n",
    "        except Exception as e:\n",
    "            print(\"Error: \", i, e)\n",
    "            \n",
    "    return np.asanyarray(images)"
   ]
  },
  {
   "cell_type": "code",
   "execution_count": 7,
   "metadata": {},
   "outputs": [],
   "source": [
    "wiki_dir = './data/wiki_crop'"
   ]
  },
  {
   "cell_type": "code",
   "execution_count": 8,
   "metadata": {},
   "outputs": [],
   "source": [
    "images, age_list = load_data(wiki_dir=wiki_dir, dataset = \"wiki\")\n",
    "age_cat = ages_to_category(age_list)\n",
    "final_age_cat = np.reshape(np.array(age_cat), [len(age_cat), 1])\n",
    "classes = len(set(age_cat))\n",
    "y_train = to_categorical(final_age_cat, num_classes=classes)"
   ]
  },
  {
   "cell_type": "code",
   "execution_count": 9,
   "metadata": {},
   "outputs": [],
   "source": [
    "x_train = load_images(wiki_dir, images, (64, 64, 3), 1000)"
   ]
  },
  {
   "cell_type": "code",
   "execution_count": null,
   "metadata": {},
   "outputs": [
    {
     "name": "stderr",
     "output_type": "stream",
     "text": [
      "Clipping input data to the valid range for imshow with RGB data ([0..1] for floats or [0..255] for integers).\n"
     ]
    },
    {
     "data": {
      "text/plain": [
       "<matplotlib.image.AxesImage at 0x7f5d5e416f10>"
      ]
     },
     "execution_count": 10,
     "metadata": {},
     "output_type": "execute_result"
    },
    {
     "data": {
      "image/png": "[encoded data removed]",
      "text/plain": [
       "<Figure size 640x480 with 1 Axes>"
      ]
     },
     "metadata": {},
     "output_type": "display_data"
    }
   ],
   "source": [
    "plt.imshow(x_train[10], cmap = 'gray')"
   ]
  },
  {
   "attachments": {},
   "cell_type": "markdown",
   "metadata": {},
   "source": [
    "## Define cGAN"
   ]
  },
  {
   "cell_type": "code",
   "execution_count": 11,
   "metadata": {},
   "outputs": [
    {
     "name": "stderr",
     "output_type": "stream",
     "text": [
      "2023-04-25 15:44:45.730393: I tensorflow/core/common_runtime/gpu/gpu_device.cc:1635] Created device /job:localhost/replica:0/task:0/device:GPU:0 with 10766 MB memory:  -> device: 0, name: Tesla K80, pci bus id: 0001:00:00.0, compute capability: 3.7\n",
      "/anaconda/envs/ai-seminar-tf/lib/python3.9/site-packages/keras/optimizers/legacy/adam.py:117: UserWarning: The `lr` argument is deprecated, use `learning_rate` instead.\n",
      "  super().__init__(name, **kwargs)\n"
     ]
    }
   ],
   "source": [
    "cGAN = CGAN_FaceAging()"
   ]
  },
  {
   "attachments": {},
   "cell_type": "markdown",
   "metadata": {},
   "source": [
    "## Train GAN"
   ]
  },
  {
   "cell_type": "code",
   "execution_count": 12,
   "metadata": {},
   "outputs": [],
   "source": [
    "batch_size = 64"
   ]
  },
  {
   "cell_type": "code",
   "execution_count": 13,
   "metadata": {},
   "outputs": [],
   "source": [
    "real_labels = np.ones((batch_size, 1), dtype = np.float32) * 0.9\n",
    "fake_labels = np.zeros((batch_size, 1), dtype = np.float32) * 0.1"
   ]
  },
  {
   "cell_type": "code",
   "execution_count": 14,
   "metadata": {},
   "outputs": [
    {
     "name": "stderr",
     "output_type": "stream",
     "text": [
      "\u001b[32m2023-04-25 15:44:47.377\u001b[0m | \u001b[1mINFO    \u001b[0m | \u001b[36msrc.face_aging\u001b[0m:\u001b[36m_train_gan\u001b[0m:\u001b[36m294\u001b[0m - \u001b[1mEpoch: 0\u001b[0m\n",
      "\u001b[32m2023-04-25 15:44:47.379\u001b[0m | \u001b[1mINFO    \u001b[0m | \u001b[36msrc.face_aging\u001b[0m:\u001b[36m_train_gan\u001b[0m:\u001b[36m300\u001b[0m - \u001b[1mNumber of batches: 15\u001b[0m\n",
      "\u001b[32m2023-04-25 15:44:47.379\u001b[0m | \u001b[1mINFO    \u001b[0m | \u001b[36msrc.face_aging\u001b[0m:\u001b[36m_train_gan\u001b[0m:\u001b[36m303\u001b[0m - \u001b[1mBatch: 1\u001b[0m\n",
      "2023-04-25 15:44:47.411544: I tensorflow/core/common_runtime/executor.cc:1197] [/device:CPU:0] (DEBUG INFO) Executor start aborting (this does not indicate an error and you can ignore this message): INVALID_ARGUMENT: You must feed a value for placeholder tensor 'Placeholder/_1' with dtype float and shape [64,6]\n",
      "\t [[{{node Placeholder/_1}}]]\n",
      "2023-04-25 15:44:48.056165: I tensorflow/compiler/xla/stream_executor/cuda/cuda_dnn.cc:424] Loaded cuDNN version 8600\n",
      "2023-04-25 15:44:49.400529: I tensorflow/core/common_runtime/executor.cc:1197] [/device:CPU:0] (DEBUG INFO) Executor start aborting (this does not indicate an error and you can ignore this message): INVALID_ARGUMENT: You must feed a value for placeholder tensor 'Placeholder/_2' with dtype float and shape [64,1]\n",
      "\t [[{{node Placeholder/_2}}]]\n",
      "2023-04-25 15:44:50.714045: I tensorflow/core/common_runtime/executor.cc:1197] [/device:CPU:0] (DEBUG INFO) Executor start aborting (this does not indicate an error and you can ignore this message): INVALID_ARGUMENT: You must feed a value for placeholder tensor 'Placeholder/_2' with dtype float and shape [64,1]\n",
      "\t [[{{node Placeholder/_2}}]]\n",
      "\u001b[32m2023-04-25 15:44:50.750\u001b[0m | \u001b[1mINFO    \u001b[0m | \u001b[36msrc.face_aging\u001b[0m:\u001b[36m_train_gan\u001b[0m:\u001b[36m318\u001b[0m - \u001b[1md_loss: 1.993296056985855\u001b[0m\n",
      "2023-04-25 15:44:50.773498: I tensorflow/core/common_runtime/executor.cc:1197] [/device:CPU:0] (DEBUG INFO) Executor start aborting (this does not indicate an error and you can ignore this message): INVALID_ARGUMENT: You must feed a value for placeholder tensor 'Placeholder/_2' with dtype int64 and shape [64]\n",
      "\t [[{{node Placeholder/_2}}]]\n"
     ]
    }
   ],
   "source": [
    "cGAN.train(\n",
    "    epochs=500,\n",
    "    x_train=x_train,\n",
    "    y_train=y_train,\n",
    "    batch_size=batch_size,\n",
    "    z_shape=100,\n",
    "    real_labels=real_labels,\n",
    "    fake_labels=fake_labels\n",
    ")"
   ]
  }
 ],
 "metadata": {
  "kernelspec": {
   "display_name": "ai-b-ai-seminar",
   "language": "python",
   "name": "python3"
  },
  "language_info": {
   "codemirror_mode": {
    "name": "ipython",
    "version": 3
   },
   "file_extension": ".py",
   "mimetype": "text/x-python",
   "name": "python",
   "nbconvert_exporter": "python",
   "pygments_lexer": "ipython3",
   "version": "3.11.3"
  },
  "orig_nbformat": 4
 },
 "nbformat": 4,
 "nbformat_minor": 2
}
