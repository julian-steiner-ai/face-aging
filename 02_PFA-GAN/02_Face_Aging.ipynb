{
 "cells": [
  {
   "attachments": {},
   "cell_type": "markdown",
   "metadata": {},
   "source": [
    "# Face Aging"
   ]
  },
  {
   "cell_type": "code",
   "execution_count": null,
   "metadata": {},
   "outputs": [],
   "source": [
    "from torch import nn, Tensor, zeros, sum as tsum\n",
    "from torchvision import transforms\n",
    "from torchvision.utils import save_image\n",
    "from torchvision.datasets.folder import pil_loader\n",
    "\n",
    "import os\n",
    "import torch\n",
    "import torch.nn.functional as F\n",
    "import torchvision"
   ]
  },
  {
   "cell_type": "code",
   "execution_count": null,
   "metadata": {},
   "outputs": [],
   "source": [
    "device = torch.device(\"cuda:0\" if torch.cuda.is_available() else \"cpu\")\n",
    "device"
   ]
  },
  {
   "attachments": {},
   "cell_type": "markdown",
   "metadata": {},
   "source": [
    "## PFA-GAN"
   ]
  },
  {
   "attachments": {},
   "cell_type": "markdown",
   "metadata": {},
   "source": [
    "### Generator"
   ]
  },
  {
   "cell_type": "code",
   "execution_count": null,
   "metadata": {},
   "outputs": [],
   "source": [
    "class ResidualBlock(nn.Module):\n",
    "    def __init__(self, channels):\n",
    "        super(ResidualBlock, self).__init__()\n",
    "        self.n_channels = channels\n",
    "        self._init_model()\n",
    "    \n",
    "    def _init_model(self):\n",
    "        layers = [\n",
    "            nn.Conv2d(\n",
    "                self.n_channels,\n",
    "                self.n_channels,\n",
    "                3,\n",
    "                1,\n",
    "                1\n",
    "            ),\n",
    "            nn.BatchNorm2d(128),\n",
    "            nn.LeakyReLU(0.2, inplace=True),\n",
    "            \n",
    "            nn.Conv2d(\n",
    "                self.n_channels,\n",
    "                self.n_channels,\n",
    "                3,\n",
    "                1,\n",
    "                1\n",
    "            ),\n",
    "            nn.BatchNorm2d(self.n_channels),\n",
    "        ]\n",
    "\n",
    "        self.main = nn.Sequential(*layers)\n",
    "\n",
    "    def forward(self, x):\n",
    "        residual = x\n",
    "        x = self.main(x)\n",
    "        return F.leaky_relu(residual + x, 0.2, inplace=True)"
   ]
  },
  {
   "cell_type": "code",
   "execution_count": null,
   "metadata": {},
   "outputs": [],
   "source": [
    "class GeneratorSubNetwork(nn.Module):\n",
    "    def __init__(self, in_channels=3, n_residual_blocks=4):\n",
    "        super(GeneratorSubNetwork, self).__init__()\n",
    "\n",
    "        self.in_channels = in_channels\n",
    "        self.n_residual_blocks = n_residual_blocks\n",
    "\n",
    "        self._init_model()\n",
    "    \n",
    "    def _init_model(self):\n",
    "        layers = [\n",
    "            nn.Conv2d(\n",
    "                in_channels=self.in_channels,\n",
    "                out_channels=32,\n",
    "                kernel_size=9,\n",
    "                stride=1,\n",
    "                padding=4\n",
    "            ),\n",
    "            nn.InstanceNorm2d(32),\n",
    "            nn.LeakyReLU(0.2, inplace=True),\n",
    "\n",
    "            nn.Conv2d(\n",
    "                in_channels=32,\n",
    "                out_channels=64,\n",
    "                kernel_size=4,\n",
    "                stride=2,\n",
    "                padding=1\n",
    "            ),\n",
    "            nn.InstanceNorm2d(64),\n",
    "            nn.LeakyReLU(0.2, inplace=True),\n",
    "\n",
    "            nn.Conv2d(\n",
    "                in_channels=64,\n",
    "                out_channels=128,\n",
    "                kernel_size=4,\n",
    "                stride=2,\n",
    "                padding=1\n",
    "            ),\n",
    "            nn.InstanceNorm2d(128),\n",
    "            nn.LeakyReLU(0.2, inplace=True)\n",
    "        ]\n",
    "\n",
    "        for _ in range(self.n_residual_blocks):\n",
    "            layers.append(ResidualBlock(128))\n",
    "\n",
    "        layers.extend([\n",
    "            nn.ConvTranspose2d(\n",
    "                in_channels=128,\n",
    "                out_channels=64,\n",
    "                kernel_size=4,\n",
    "                stride=2,\n",
    "                padding=1\n",
    "            ),\n",
    "            nn.InstanceNorm2d(64),\n",
    "            nn.LeakyReLU(0.2, inplace=True),\n",
    "\n",
    "            nn.ConvTranspose2d(\n",
    "                in_channels=64,\n",
    "                out_channels=32,\n",
    "                kernel_size=4,\n",
    "                stride=2,\n",
    "                padding=1\n",
    "            ),\n",
    "            nn.InstanceNorm2d(32),\n",
    "            nn.LeakyReLU(0.2, inplace=True),\n",
    "            \n",
    "            nn.Conv2d(\n",
    "                in_channels=32,\n",
    "                out_channels=3,\n",
    "                kernel_size=9,\n",
    "                stride=1,\n",
    "                padding=4\n",
    "            )\n",
    "        ])\n",
    "    \n",
    "        self.main = nn.Sequential(*layers)\n",
    "    \n",
    "    def forward(self, x):\n",
    "        return self.main(x)"
   ]
  },
  {
   "cell_type": "code",
   "execution_count": null,
   "metadata": {},
   "outputs": [],
   "source": [
    "class Generator(nn.Module):\n",
    "    def __init__(self, age_group, n_residual_blocks=4):\n",
    "        super(Generator, self).__init__()\n",
    "        self.age_group = age_group\n",
    "        self._init_model(n_residual_blocks)\n",
    "    \n",
    "    def _init_model(self, n_residual_blocks):\n",
    "        self.sub_networks = nn.ModuleList()\n",
    "\n",
    "        for _ in range(self.age_group - 1):\n",
    "            self.sub_networks.append(GeneratorSubNetwork(\n",
    "                in_channels=3,\n",
    "                n_residual_blocks=n_residual_blocks\n",
    "            ))\n",
    "    \n",
    "    def forward(self, x, source_label: Tensor, target_label: Tensor):\n",
    "        condition = self._pfa_encoding(source_label, target_label, self.age_group).to(device)\n",
    "        for i in range(self.age_group - 1):\n",
    "            aging_effects = self.sub_networks[i](x)\n",
    "            x = x + aging_effects * condition[:, i]\n",
    "        return x\n",
    "\n",
    "    def _pfa_encoding(self, source, target, age_group):\n",
    "        source, target = source.long(), target.long()\n",
    "        code = zeros((source.size(0), age_group - 1, 1, 1, 1)).to(source)\n",
    "        for i in range(source.size(0)):\n",
    "            code[i, source[i]: target[i], ...] = 1\n",
    "        return code"
   ]
  },
  {
   "attachments": {},
   "cell_type": "markdown",
   "metadata": {},
   "source": [
    "### PFA-GAN"
   ]
  },
  {
   "cell_type": "code",
   "execution_count": null,
   "metadata": {},
   "outputs": [],
   "source": [
    "checkoint = 70000"
   ]
  },
  {
   "cell_type": "code",
   "execution_count": null,
   "metadata": {},
   "outputs": [],
   "source": [
    "generator = Generator(4)\n",
    "checkpoint = torch.load(f'/home/js07987/Documents/semester-6/ai-seminar/face-aging/02_PFA-GAN/model/pfa-gan/checkpoint/exp_8/pfa-gan_{checkoint}.obj')\n",
    "generator.load_state_dict(checkpoint['generator_state_dict'])\n",
    "generator.cuda()\n",
    "generator.eval()"
   ]
  },
  {
   "cell_type": "code",
   "execution_count": null,
   "metadata": {},
   "outputs": [],
   "source": [
    "image = pil_loader('/home/js07987/Documents/semester-6/ai-seminar/face-aging/02_PFA-GAN/materials/test/43849636.jpg').resize((248,248))\n",
    "image = transforms.ToTensor()(image)\n",
    "images = image[None,:].to(device=device)"
   ]
  },
  {
   "cell_type": "code",
   "execution_count": null,
   "metadata": {},
   "outputs": [],
   "source": [
    "def _save_image(grid_img, path, img_name):\n",
    "    if not os.path.exists(path):\n",
    "        os.mkdir(path)\n",
    "    \n",
    "    save_image(\n",
    "        grid_img,\n",
    "        os.path.join(path, img_name),\n",
    "        nrow=1\n",
    "    )"
   ]
  },
  {
   "cell_type": "code",
   "execution_count": null,
   "metadata": {},
   "outputs": [],
   "source": [
    "@torch.no_grad()\n",
    "def generate_images(generator, images, n_source=0, age_group=4, checkpoint=0):\n",
    "    generator.eval()\n",
    "    \n",
    "    real_img = images.to(device)\n",
    "    bs, ch, w, h = real_img.size()\n",
    "    fake_imgs = [real_img, ]\n",
    "\n",
    "    for target in range(n_source + 1, age_group):\n",
    "        output = generator(real_img, torch.ones(bs) * n_source, torch.ones(bs) * target)\n",
    "        fake_imgs.append(output)\n",
    "        \n",
    "    fake_imgs = torch.stack(fake_imgs).transpose(1, 0).reshape((-1, ch, w, h))\n",
    "\n",
    "    fake_imgs = fake_imgs * 0.5 + 0.5\n",
    "    grid_img = torchvision.utils.make_grid(fake_imgs.clamp(0., 1.), nrow=age_group - n_source)\n",
    "\n",
    "    _save_image(\n",
    "        grid_img,\n",
    "        os.path.join(\n",
    "            'materials',\n",
    "            'test_generations',\n",
    "            f'checkpoint_{checkpoint}'\n",
    "        ),\n",
    "        f'test_{checkpoint}.jpg'\n",
    "    )"
   ]
  },
  {
   "cell_type": "code",
   "execution_count": null,
   "metadata": {},
   "outputs": [],
   "source": [
    "generate_images(\n",
    "    generator=generator,\n",
    "    images=images,\n",
    "    n_source=0,\n",
    "    age_group=4,\n",
    "    checkpoint=checkoint\n",
    ")"
   ]
  }
 ],
 "metadata": {
  "kernelspec": {
   "display_name": "Python 3",
   "language": "python",
   "name": "python3"
  },
  "language_info": {
   "codemirror_mode": {
    "name": "ipython",
    "version": 3
   },
   "file_extension": ".py",
   "mimetype": "text/x-python",
   "name": "python",
   "nbconvert_exporter": "python",
   "pygments_lexer": "ipython3",
   "version": "3.11.3"
  },
  "orig_nbformat": 4
 },
 "nbformat": 4,
 "nbformat_minor": 2
}
